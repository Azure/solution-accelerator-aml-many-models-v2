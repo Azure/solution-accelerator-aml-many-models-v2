{
 "cells": [
  {
   "cell_type": "markdown",
   "metadata": {},
   "source": [
    "## **Prerequisites**\n",
    "\n",
    "#### - Create Azure Machine Learning Workspace via the Portal\n",
    "- Note workspace name, resource group, and subscription id\n",
    "#### - Create and populate .env file in the home directory\n",
    "- Use [.sample.env](../.sample.env) as a guide\n",
    "#### - Create and activate conda virtual env\n",
    "- Run the following bash commands via the terminal _from the top directory_\n",
    "```bash\n",
    "    conda env create --name many_models --file=./environment/conda.yaml\n",
    "    conda activate many_models\n",
    "    az login\n",
    "```\n",
    "- Select the many_models python interpreter and kernel to run the remainder of this notebook\n",
    "\n",
    "- If you are not using VS Code you may need to run the following command to install the kernel:\n",
    "```bash \n",
    "    python -m ipykernel install --user --name many_models --display-name \"many_models\"\n",
    "```\n",
    "\n",
    "### **1. Load Data to Workspace**"
   ]
  },
  {
   "cell_type": "code",
   "execution_count": null,
   "metadata": {},
   "outputs": [],
   "source": [
    "import os\n",
    "import time\n",
    "import pandas as pd\n",
    "from dotenv import load_dotenv, find_dotenv\n",
    "from azure.ai.ml import MLClient\n",
    "from azure.ai.ml.entities import Data, AmlCompute, Environment\n",
    "from azure.ai.ml.constants import AssetTypes\n",
    "from azure.identity import DefaultAzureCredential"
   ]
  },
  {
   "cell_type": "code",
   "execution_count": null,
   "metadata": {},
   "outputs": [],
   "source": [
    "# Load environment variables from .env file\n",
    "load_dotenv(find_dotenv(), override=True)\n",
    "\n",
    "#Confirm variabels were loaded\n",
    "print(os.getenv(\"WORKSPACE_NAME\"))"
   ]
  },
  {
   "cell_type": "code",
   "execution_count": null,
   "metadata": {},
   "outputs": [],
   "source": [
    "# authenticate\n",
    "credential = DefaultAzureCredential(tenantid=os.environ.get('TENANT_ID'))\n",
    "\n",
    "# Get a handle to the workspace\n",
    "ml_client = MLClient(\n",
    "    credential=credential,\n",
    "    subscription_id = os.environ.get('SUBSCRIPTION_ID'),\n",
    "    resource_group_name = os.environ.get('RESOURCE_GROUP_NAME'),\n",
    "    workspace_name = os.environ.get('WORKSPACE_NAME'),\n",
    ")"
   ]
  },
  {
   "cell_type": "code",
   "execution_count": null,
   "metadata": {},
   "outputs": [],
   "source": [
    "# set the version number of the data asset to the current UTC time\n",
    "v = time.strftime(\"%Y.%m.%d.%H%M%S\", time.gmtime())\n",
    "local_path = \"../data/oj_sim_sales/\""
   ]
  },
  {
   "cell_type": "code",
   "execution_count": null,
   "metadata": {},
   "outputs": [],
   "source": [
    "train_data = Data(\n",
    "    name=\"oj-sim-sales-train\",\n",
    "    version=v,\n",
    "    description=\"Training Data - Chicago area orange juice sales data\",\n",
    "    path=local_path + \"train_subset.csv\",\n",
    "    type=AssetTypes.URI_FILE,\n",
    ")\n",
    "\n",
    "results_data = Data(\n",
    "    name=\"oj-sim-sales-ground-truth\",\n",
    "    version=v,\n",
    "    description=\"Results for Feedback - Chicago area orange juice sales data\",\n",
    "    path=local_path + \"test_subset_results.csv\",\n",
    "    type=AssetTypes.URI_FILE,\n",
    ")\n",
    "\n",
    "test_data = Data(\n",
    "    name=\"oj-sim-sales-test\",\n",
    "    version=v,\n",
    "    description=\"Infrence Data - Chicago area orange juice sales data\",\n",
    "    path=local_path + \"test_subset.csv\",\n",
    "    type=AssetTypes.URI_FILE,\n",
    ")\n",
    "\n",
    "\n",
    "# create data assets\n",
    "ml_client.data.create_or_update(train_data)\n",
    "ml_client.data.create_or_update(test_data)\n",
    "ml_client.data.create_or_update(results_data)"
   ]
  },
  {
   "cell_type": "code",
   "execution_count": null,
   "metadata": {},
   "outputs": [],
   "source": [
    "# Validate data upload\n",
    "data_asset = ml_client.data.get(\"oj-sim-sales-train\", label=\"latest\")\n",
    "\n",
    "df = pd.read_csv(data_asset.path)\n",
    "display(df.head(10))\n",
    "\n",
    "print(f\"Total Partitions: {df[['Brand', 'Store']].drop_duplicates().shape[0]}\")"
   ]
  },
  {
   "cell_type": "markdown",
   "metadata": {},
   "source": [
    "### **2. Create Compute Cluster**"
   ]
  },
  {
   "cell_type": "code",
   "execution_count": null,
   "metadata": {},
   "outputs": [],
   "source": [
    "# Create Compute Target\n",
    "\n",
    "# Name assigned to the compute cluster\n",
    "cpu_compute_target = \"mm-cpu-cluster\"\n",
    "\n",
    "try:\n",
    "    # let's see if the compute target already exists\n",
    "    cpu_cluster = ml_client.compute.get(cpu_compute_target)\n",
    "    print(f\"You already have a cluster named {cpu_compute_target}, we'll reuse it as is.\")\n",
    "\n",
    "except Exception:\n",
    "    print(\"Creating a new cpu compute target...\")\n",
    "    cpu_cluster = AmlCompute(\n",
    "        name=cpu_compute_target,\n",
    "        # Azure Machine Learning Compute is the on-demand VM service\n",
    "        type=\"amlcompute\",\n",
    "        # VM Family\n",
    "        size=\"STANDARD_DS3_V2\",\n",
    "        # Minimum running nodes when there is no job running\n",
    "        min_instances=0,\n",
    "        # Nodes in cluster\n",
    "        max_instances=10,\n",
    "        # How many seconds will the node running after the job termination\n",
    "        idle_time_before_scale_down=300, # 5 minutes\n",
    "        # Dedicated or LowPriority. The latter is cheaper but there is a chance of job termination\n",
    "        tier=\"Dedicated\",\n",
    "    )\n",
    "    cpu_cluster = ml_client.compute.begin_create_or_update(cpu_cluster)"
   ]
  },
  {
   "cell_type": "markdown",
   "metadata": {},
   "source": [
    "### **3. Create Runtime Environment**"
   ]
  },
  {
   "cell_type": "code",
   "execution_count": null,
   "metadata": {},
   "outputs": [],
   "source": [
    "# Create Environment\n",
    "custom_env_name = \"mm-remote-env-py310\"\n",
    "\n",
    "custom_job_env = Environment(\n",
    "    name=custom_env_name,\n",
    "    description=\"Custom environment for many models\",\n",
    "    conda_file=\"../environment/conda.yaml\",\n",
    "    image=\"mcr.microsoft.com/azureml/openmpi4.1.0-ubuntu20.04:20240226.v1\",\n",
    ")\n",
    "custom_job_env = ml_client.environments.create_or_update(custom_job_env)\n",
    "\n",
    "print(f\"Environment created: {custom_job_env.name}\")\n",
    "\n",
    "ml_client.environments.get(custom_env_name, label=\"latest\")"
   ]
  }
 ],
 "metadata": {
  "kernelspec": {
   "display_name": "many_models",
   "language": "python",
   "name": "python3"
  },
  "language_info": {
   "codemirror_mode": {
    "name": "ipython",
    "version": 3
   },
   "file_extension": ".py",
   "mimetype": "text/x-python",
   "name": "python",
   "nbconvert_exporter": "python",
   "pygments_lexer": "ipython3",
   "version": "3.9.0"
  }
 },
 "nbformat": 4,
 "nbformat_minor": 2
}
